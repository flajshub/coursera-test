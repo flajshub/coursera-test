{
  "cells": [
    {
      "cell_type": "markdown",
      "metadata": {
        "id": "view-in-github",
        "colab_type": "text"
      },
      "source": [
        "<a href=\"https://colab.research.google.com/github/flajshub/coursera-test/blob/main/flaviofinal.ipynb\" target=\"_parent\"><img src=\"https://colab.research.google.com/assets/colab-badge.svg\" alt=\"Open In Colab\"/></a>"
      ]
    },
    {
      "cell_type": "markdown",
      "metadata": {
        "id": "k9wwFeegS3Ki"
      },
      "source": [
        "# Task 1: Introduction"
      ]
    },
    {
      "cell_type": "code",
      "execution_count": 1,
      "metadata": {
        "id": "fIiW9lkGS3Kq"
      },
      "outputs": [],
      "source": [
        "%matplotlib inline\n",
        "\n",
        "import numpy as np\n",
        "import matplotlib.pyplot as plt"
      ]
    },
    {
      "cell_type": "markdown",
      "metadata": {
        "id": "opi_vOG4S3Ks"
      },
      "source": [
        "# Task 2: Dataset\n",
        "\n",
        "Real estate agent table:"
      ]
    },
    {
      "cell_type": "markdown",
      "metadata": {
        "id": "_2kiEOTHS3Kt"
      },
      "source": [
        "|Area|Distance|Price|\n",
        "|---|---|---|\n",
        "|70|3|21200|\n",
        "|50|1|22010|\n",
        "|120|9|24305|\n",
        "|100|2|31500|\n",
        "\n",
        "You can write the relationship with a 2-variable linear equation:\n",
        "\n",
        "$\n",
        "\\begin{equation}\n",
        "y = b + w_1.x_1 + w_2.x_2\n",
        "\\end{equation}\n",
        "$\n",
        "\n",
        "In a vector form:\n",
        "\n",
        "$\n",
        "\\begin{equation}\n",
        "y = b + (w_1 w_2).\\binom{x_1}{x_2}\n",
        "\\end{equation}\n",
        "$\n",
        "\n",
        "Where\n",
        "$\n",
        "\\begin{equation}\n",
        "W = (w_1 w_2)\n",
        "\\end{equation}\n",
        "$\n",
        "and\n",
        "$\n",
        "\\begin{equation}\n",
        "X = \\binom{x_1}{x_2}\n",
        "\\end{equation}\n",
        "$"
      ]
    },
    {
      "cell_type": "code",
      "execution_count": 2,
      "metadata": {
        "id": "euvuaFCoS3Kv"
      },
      "outputs": [],
      "source": [
        "# [ ]\n",
        "# { }\n",
        "def generate_examples(num=1000):\n",
        "        W = [1.0, -3.0]\n",
        "        b = 1.0\n",
        "        \n",
        "        W = np.reshape(W, (2, 1)) \n",
        "        \n",
        "        X = np.random.randn(num, 2)\n",
        "        \n",
        "        # exzended better rand y = b + np.dot(X, W)\n",
        "        y = b + np.dot(X, W) + np.random.randn()\n",
        "        \n",
        "        y = np.reshape(y, (num, 1)) \n",
        "        \n",
        "        return X, y"
      ]
    },
    {
      "cell_type": "code",
      "execution_count": 3,
      "metadata": {
        "id": "9tdErLC9S3Kw"
      },
      "outputs": [],
      "source": [
        "X, y = generate_examples()"
      ]
    },
    {
      "cell_type": "code",
      "execution_count": 4,
      "metadata": {
        "colab": {
          "base_uri": "https://localhost:8080/"
        },
        "id": "gbI-2f3fS3Kx",
        "outputId": "c0a64439-0a8d-484e-a6f3-efa9b5ccdca1"
      },
      "outputs": [
        {
          "output_type": "stream",
          "name": "stdout",
          "text": [
            "(1000, 2) (1000, 1)\n"
          ]
        }
      ],
      "source": [
        "print(X.shape, y.shape)"
      ]
    },
    {
      "cell_type": "code",
      "execution_count": 5,
      "metadata": {
        "colab": {
          "base_uri": "https://localhost:8080/"
        },
        "id": "6d7voLqbS3Kz",
        "outputId": "9bf7217e-14cb-4ec7-d7a3-1a922671036f"
      },
      "outputs": [
        {
          "output_type": "stream",
          "name": "stdout",
          "text": [
            "[ 0.33320292 -0.215359  ] [3.0318338]\n"
          ]
        }
      ],
      "source": [
        "print(X[0], y[0])"
      ]
    },
    {
      "cell_type": "markdown",
      "metadata": {
        "id": "yGCJKzbPS3K0"
      },
      "source": [
        "# Task 3: Initialize Parameters"
      ]
    },
    {
      "cell_type": "markdown",
      "metadata": {
        "id": "abUPcp8nS3K1"
      },
      "source": [
        "The loss over **m** examples:\n",
        "\n",
        "$\n",
        "\\begin{equation}\n",
        "J = \\frac{1}{2m} \\sum_{i=1}^{m} (y - \\hat{y})^2\n",
        "\\end{equation}\n",
        "$\n",
        "\n",
        "The objective of the gradient descent algorithm is to minimize this loss value.\n",
        "\n",
        "Gradient Descent Objective is to \n",
        "$\n",
        "\\begin{equation}\n",
        "min(J)\n",
        "\\end{equation}\n",
        "$"
      ]
    },
    {
      "cell_type": "code",
      "execution_count": 6,
      "metadata": {
        "id": "6-unlQmtS3K2"
      },
      "outputs": [],
      "source": [
        "class Model:\n",
        "    def __init__(self, num_features):\n",
        "        self.num_features = num_features\n",
        "        self.W = np.random.randn(num_features, 1)\n",
        "        self.b = np.random.randn()"
      ]
    },
    {
      "cell_type": "code",
      "execution_count": 7,
      "metadata": {
        "colab": {
          "base_uri": "https://localhost:8080/"
        },
        "id": "HkUSBfR5S3K3",
        "outputId": "16ee1b10-4369-4d0c-e57c-3686f2887942"
      },
      "outputs": [
        {
          "output_type": "stream",
          "name": "stdout",
          "text": [
            "[[-0.18435593]\n",
            " [-0.34785643]]\n",
            "0.10960499122209563\n"
          ]
        }
      ],
      "source": [
        "model = Model(2)\n",
        "print(model.W)\n",
        "print(model.b)"
      ]
    },
    {
      "cell_type": "markdown",
      "metadata": {
        "id": "n3sVYRZcS3K3"
      },
      "source": [
        "# Task 4: Forward Pass"
      ]
    },
    {
      "cell_type": "markdown",
      "metadata": {
        "id": "Li4O3bVxS3K4"
      },
      "source": [
        "The gradient descent algorithm can be simplified in 4 steps:\n",
        "\n",
        "1. Get predictions y_hat for X with current values of W and b.\n",
        "2. Compute the loss between y and y_hat\n",
        "3. Find gradients of the loss with respect to parameters W and b\n",
        "4. Update the values of W and b by subtracting the gradient values obtained in the previous step\n",
        "\n",
        "Let's simplify our linear equation a bit more for an example:\n",
        "$\n",
        "\\begin{equation}\n",
        "y = wx\n",
        "\\end{equation}\n",
        "$\n",
        "\n",
        "Let's plot J as a function of w\n",
        "\n",
        "![Loss vs Param](JvsW.png)\n",
        "\n",
        "The gradients of loss with respect to w:\n",
        "\n",
        "\\begin{equation}\n",
        "\\frac{dJ}{dw} = \\frac{\\delta{J}}{\\delta{w}} = \\lim_{\\epsilon \\to 0} \\frac{J(w + \\epsilon) - J(w)}{\\epsilon}\n",
        "\\end{equation}"
      ]
    },
    {
      "cell_type": "code",
      "execution_count": 8,
      "metadata": {
        "id": "3nZxVjyUS3K4"
      },
      "outputs": [],
      "source": [
        "class Model(Model):\n",
        "    def forward_pass(self, X):\n",
        "        y_hat = self.b + np.dot(X, self.W)\n",
        "        return y_hat\n",
        "        "
      ]
    },
    {
      "cell_type": "code",
      "execution_count": 9,
      "metadata": {
        "colab": {
          "base_uri": "https://localhost:8080/"
        },
        "id": "Q-CGcxwUS3K5",
        "outputId": "241f0450-c95d-4244-e83b-83fc124e0b73"
      },
      "outputs": [
        {
          "output_type": "stream",
          "name": "stdout",
          "text": [
            "(1000, 1) [-0.95926046]\n"
          ]
        }
      ],
      "source": [
        "y_hat = Model(2).forward_pass(X)\n",
        "print(y_hat.shape, y_hat[0])"
      ]
    },
    {
      "cell_type": "markdown",
      "metadata": {
        "id": "6M8ZjMsAS3K6"
      },
      "source": [
        "# Task 5: Compute Loss\n",
        "\n",
        "The loss over **m** examples:\n",
        "\n",
        "$\n",
        "\\begin{equation}\n",
        "J = \\frac{1}{2m} \\sum_{i=1}^{m} (y - \\hat{y})^2\n",
        "\\end{equation}\n",
        "$"
      ]
    },
    {
      "cell_type": "code",
      "execution_count": 10,
      "metadata": {
        "id": "c593X4c7S3K6"
      },
      "outputs": [],
      "source": [
        "class Model(Model):\n",
        "    def compute_loss(self, y_hat, y_true):\n",
        "        return np.sum(np.square(y_hat - y_true))/(2*y_hat.shape[0])"
      ]
    },
    {
      "cell_type": "code",
      "execution_count": 11,
      "metadata": {
        "id": "YBiDfF9-S3K7"
      },
      "outputs": [],
      "source": [
        "model = Model(2)\n",
        "y_hat = model.forward_pass(X)\n",
        "loss = model.compute_loss(y_hat, y)"
      ]
    },
    {
      "cell_type": "code",
      "execution_count": 12,
      "metadata": {
        "colab": {
          "base_uri": "https://localhost:8080/"
        },
        "id": "xkv0JYWHS3K8",
        "outputId": "2a980191-fb22-4a03-e6dc-32e677b50258"
      },
      "outputs": [
        {
          "output_type": "execute_result",
          "data": {
            "text/plain": [
              "12.452944288703927"
            ]
          },
          "metadata": {},
          "execution_count": 12
        }
      ],
      "source": [
        "loss"
      ]
    },
    {
      "cell_type": "markdown",
      "metadata": {
        "id": "8IM1xzpjS3K9"
      },
      "source": [
        "# Task 6: Backward Pass\n",
        "\n",
        "The gradient of loss with respect to bias can be calculated with:\n",
        "\n",
        "$\n",
        "\\begin{equation}\n",
        "\\frac{dJ}{db} = \\frac{1}{m} \\sum_{i=1}^{m} (\\hat{y^{(i)}} - y^{(i)})\n",
        "\\end{equation}\n",
        "$\n",
        "\n",
        "$\n",
        "\\begin{equation}\n",
        "\\frac{dJ}{dW_j} = \\frac{1}{m} \\sum_{i=1}^{m} (\\hat{y^{(i)}} - y^{(i)}).x_j^{(i)}\n",
        "\\end{equation}\n",
        "$"
      ]
    },
    {
      "cell_type": "code",
      "execution_count": 13,
      "metadata": {
        "id": "xpzd9PHmS3K-"
      },
      "outputs": [],
      "source": [
        "class Model(Model):\n",
        "    def backward_pass(self, X, y_true, y_hat):\n",
        "        m = y_true.shape[0]\n",
        "        db = (1/m)*np.sum(y_hat - y_true)\n",
        "        dW = (1/m)*np.sum(np.dot(np.transpose(y_hat - y_true), X), axis=0)\n",
        "        return dW, db"
      ]
    },
    {
      "cell_type": "code",
      "execution_count": 14,
      "metadata": {
        "id": "D6L1xpHOS3K-"
      },
      "outputs": [],
      "source": [
        "model = Model(2)\n",
        "\n",
        "X, y = generate_examples()\n",
        "y_hat = model.forward_pass(X)\n",
        "\n",
        "dW, db = model.backward_pass(X, y, y_hat)"
      ]
    },
    {
      "cell_type": "code",
      "execution_count": 15,
      "metadata": {
        "colab": {
          "base_uri": "https://localhost:8080/"
        },
        "id": "Cu5MzFN2S3K_",
        "outputId": "ce494bed-e745-4c10-fae0-63d58d07e6e0"
      },
      "outputs": [
        {
          "output_type": "stream",
          "name": "stdout",
          "text": [
            "[-2.02377179  4.39420984] -1.6171386835014967\n"
          ]
        }
      ],
      "source": [
        "print(dW, db)"
      ]
    },
    {
      "cell_type": "markdown",
      "metadata": {
        "id": "pywy9BB2S3LA"
      },
      "source": [
        "# Task 7: Update Parameters"
      ]
    },
    {
      "cell_type": "code",
      "execution_count": 16,
      "metadata": {
        "id": "OSWvF6LqS3LA"
      },
      "outputs": [],
      "source": [
        "# lr = learning rate\n",
        "class Model(Model):\n",
        "    def update_params(self, dW, db, lr):\n",
        "        self.W = self.W - lr * np.reshape(dW, (self.num_features, 1))\n",
        "        self.b = self.b - db"
      ]
    },
    {
      "cell_type": "markdown",
      "metadata": {
        "id": "4iCBRVm4S3LA"
      },
      "source": [
        "# Task 8: Training Loop"
      ]
    },
    {
      "cell_type": "code",
      "execution_count": 17,
      "metadata": {
        "id": "ZgJa-01oS3LA"
      },
      "outputs": [],
      "source": [
        "\n",
        "\n",
        "class Model(Model):\n",
        "    def train(self, x_train, y_train, iterations, lr):\n",
        "        losses = []\n",
        "        for i in range(0, iterations):\n",
        "            y_hat = self.forward_pass(x_train)\n",
        "            loss = self.compute_loss(y_hat, y_train)\n",
        "            dW, db = self.backward_pass(x_train, y_train, y_hat)\n",
        "            self.update_params(dW, db, lr)\n",
        "            losses.append(loss)\n",
        "            if i%int(iterations/10) == 0:\n",
        "                print('Iter: {}, Loss: {:.4f}'.format(i, loss))          \n",
        "        return losses\n",
        "    \n",
        "# [ ]\n",
        "# { }                 "
      ]
    },
    {
      "cell_type": "code",
      "execution_count": 18,
      "metadata": {
        "id": "tG_Kh8CWS3LB"
      },
      "outputs": [],
      "source": [
        "model = Model(2)"
      ]
    },
    {
      "cell_type": "code",
      "execution_count": 19,
      "metadata": {
        "id": "qrJKyRDIS3LB"
      },
      "outputs": [],
      "source": [
        "x_train, y_train = generate_examples()"
      ]
    },
    {
      "cell_type": "code",
      "execution_count": 20,
      "metadata": {
        "colab": {
          "base_uri": "https://localhost:8080/"
        },
        "id": "nOUArtyXS3LC",
        "outputId": "5d3fcb5b-3179-4ccc-b3af-a8f669b80bcf"
      },
      "outputs": [
        {
          "output_type": "stream",
          "name": "stdout",
          "text": [
            "Iter: 0, Loss: 6.4281\n",
            "Iter: 100, Loss: 1.1364\n",
            "Iter: 200, Loss: 0.6073\n",
            "Iter: 300, Loss: 0.3247\n",
            "Iter: 400, Loss: 0.1737\n",
            "Iter: 500, Loss: 0.0930\n",
            "Iter: 600, Loss: 0.0498\n",
            "Iter: 700, Loss: 0.0267\n",
            "Iter: 800, Loss: 0.0143\n",
            "Iter: 900, Loss: 0.0077\n"
          ]
        }
      ],
      "source": [
        "losses = model.train(x_train, y_train, 1000, 3e-3)"
      ]
    },
    {
      "cell_type": "code",
      "execution_count": 21,
      "metadata": {
        "colab": {
          "base_uri": "https://localhost:8080/",
          "height": 282
        },
        "id": "cW8b_wzFS3LD",
        "outputId": "9f356238-00a1-414f-948e-f979d527ea5c"
      },
      "outputs": [
        {
          "output_type": "execute_result",
          "data": {
            "text/plain": [
              "[<matplotlib.lines.Line2D at 0x7f02635a0250>]"
            ]
          },
          "metadata": {},
          "execution_count": 21
        },
        {
          "output_type": "display_data",
          "data": {
            "text/plain": [
              "<Figure size 432x288 with 1 Axes>"
            ],
            "image/png": "[encoded data removed]"
          },
          "metadata": {
            "needs_background": "light"
          }
        }
      ],
      "source": [
        "plt.plot(losses)"
      ]
    },
    {
      "cell_type": "markdown",
      "metadata": {
        "id": "cAvkRYMdS3LE"
      },
      "source": [
        "# Task 9: Predictions"
      ]
    },
    {
      "cell_type": "code",
      "execution_count": 22,
      "metadata": {
        "colab": {
          "base_uri": "https://localhost:8080/"
        },
        "id": "NxnOZXCwS3LE",
        "outputId": "96131439-bd72-4075-b20a-9da5dfcd19b8"
      },
      "outputs": [
        {
          "output_type": "stream",
          "name": "stdout",
          "text": [
            "(500, 2) (500, 1)\n"
          ]
        }
      ],
      "source": [
        "model_untrained = Model(2)\n",
        "\n",
        "x_test, y_test = generate_examples(500)\n",
        "print(x_test.shape, y_test.shape)"
      ]
    },
    {
      "cell_type": "code",
      "execution_count": 23,
      "metadata": {
        "id": "T5zr1EM-S3LF"
      },
      "outputs": [],
      "source": [
        "preds_untrained = model_untrained.forward_pass(x_test)\n",
        "preds_trained = model.forward_pass(x_test)"
      ]
    },
    {
      "cell_type": "code",
      "execution_count": 24,
      "metadata": {
        "colab": {
          "base_uri": "https://localhost:8080/",
          "height": 388
        },
        "id": "SUqBaqGjS3LF",
        "outputId": "4fc03078-25b8-4a55-c6c7-e6cc4bc4edbe"
      },
      "outputs": [
        {
          "output_type": "display_data",
          "data": {
            "text/plain": [
              "<Figure size 432x432 with 1 Axes>"
            ],
            "image/png": "[encoded data removed]"
          },
          "metadata": {
            "needs_background": "light"
          }
        }
      ],
      "source": [
        "plt.figure(figsize=(6,6))\n",
        "plt.plot(preds_untrained, y_test, 'rx', label='Untrained')\n",
        "plt.plot(preds_trained, y_test, 'b.', label='Trrained')\n",
        "plt.legend()\n",
        "plt.xlabel('Predictions')\n",
        "plt.ylabel('Ground Truth')\n",
        "plt.show()"
      ]
    },
    {
      "cell_type": "code",
      "execution_count": 24,
      "metadata": {
        "id": "yelDH5s1S3LG"
      },
      "outputs": [],
      "source": [
        ""
      ]
    }
  ],
  "metadata": {
    "kernelspec": {
      "display_name": "Python 3",
      "language": "python",
      "name": "python3"
    },
    "language_info": {
      "codemirror_mode": {
        "name": "ipython",
        "version": 3
      },
      "file_extension": ".py",
      "mimetype": "text/x-python",
      "name": "python",
      "nbconvert_exporter": "python",
      "pygments_lexer": "ipython3",
      "version": "3.7.0"
    },
    "colab": {
      "name": "flaviofinal.ipynb",
      "provenance": [],
      "collapsed_sections": [],
      "include_colab_link": true
    }
  },
  "nbformat": 4,
  "nbformat_minor": 0
}